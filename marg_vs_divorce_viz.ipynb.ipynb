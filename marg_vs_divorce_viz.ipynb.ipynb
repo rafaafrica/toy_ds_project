{
 "cells": [
  {
   "cell_type": "code",
   "execution_count": 1,
   "id": "39b3ef7e-8c38-415b-86d8-c18980647ba1",
   "metadata": {
    "tags": []
   },
   "outputs": [
    {
     "data": {
      "text/html": [
       "\n",
       "<style>\n",
       "  #altair-viz-813593e66cd441f6b5e1cba57d1b0600.vega-embed {\n",
       "    width: 100%;\n",
       "    display: flex;\n",
       "  }\n",
       "\n",
       "  #altair-viz-813593e66cd441f6b5e1cba57d1b0600.vega-embed details,\n",
       "  #altair-viz-813593e66cd441f6b5e1cba57d1b0600.vega-embed details summary {\n",
       "    position: relative;\n",
       "  }\n",
       "</style>\n",
       "<div id=\"altair-viz-813593e66cd441f6b5e1cba57d1b0600\"></div>\n",
       "<script type=\"text/javascript\">\n",
       "  var VEGA_DEBUG = (typeof VEGA_DEBUG == \"undefined\") ? {} : VEGA_DEBUG;\n",
       "  (function(spec, embedOpt){\n",
       "    let outputDiv = document.currentScript.previousElementSibling;\n",
       "    if (outputDiv.id !== \"altair-viz-813593e66cd441f6b5e1cba57d1b0600\") {\n",
       "      outputDiv = document.getElementById(\"altair-viz-813593e66cd441f6b5e1cba57d1b0600\");\n",
       "    }\n",
       "    const paths = {\n",
       "      \"vega\": \"https://cdn.jsdelivr.net/npm/vega@5?noext\",\n",
       "      \"vega-lib\": \"https://cdn.jsdelivr.net/npm/vega-lib?noext\",\n",
       "      \"vega-lite\": \"https://cdn.jsdelivr.net/npm/vega-lite@5.15.1?noext\",\n",
       "      \"vega-embed\": \"https://cdn.jsdelivr.net/npm/vega-embed@6?noext\",\n",
       "    };\n",
       "\n",
       "    function maybeLoadScript(lib, version) {\n",
       "      var key = `${lib.replace(\"-\", \"\")}_version`;\n",
       "      return (VEGA_DEBUG[key] == version) ?\n",
       "        Promise.resolve(paths[lib]) :\n",
       "        new Promise(function(resolve, reject) {\n",
       "          var s = document.createElement('script');\n",
       "          document.getElementsByTagName(\"head\")[0].appendChild(s);\n",
       "          s.async = true;\n",
       "          s.onload = () => {\n",
       "            VEGA_DEBUG[key] = version;\n",
       "            return resolve(paths[lib]);\n",
       "          };\n",
       "          s.onerror = () => reject(`Error loading script: ${paths[lib]}`);\n",
       "          s.src = paths[lib];\n",
       "        });\n",
       "    }\n",
       "\n",
       "    function showError(err) {\n",
       "      outputDiv.innerHTML = `<div class=\"error\" style=\"color:red;\">${err}</div>`;\n",
       "      throw err;\n",
       "    }\n",
       "\n",
       "    function displayChart(vegaEmbed) {\n",
       "      vegaEmbed(outputDiv, spec, embedOpt)\n",
       "        .catch(err => showError(`Javascript Error: ${err.message}<br>This usually means there's a typo in your chart specification. See the javascript console for the full traceback.`));\n",
       "    }\n",
       "\n",
       "    if(typeof define === \"function\" && define.amd) {\n",
       "      requirejs.config({paths});\n",
       "      require([\"vega-embed\"], displayChart, err => showError(`Error loading script: ${err.message}`));\n",
       "    } else {\n",
       "      maybeLoadScript(\"vega\", \"5\")\n",
       "        .then(() => maybeLoadScript(\"vega-lite\", \"5.15.1\"))\n",
       "        .then(() => maybeLoadScript(\"vega-embed\", \"6\"))\n",
       "        .catch(showError)\n",
       "        .then(() => displayChart(vegaEmbed));\n",
       "    }\n",
       "  })({\"config\": {\"view\": {\"continuousWidth\": 300, \"continuousHeight\": 300}}, \"data\": {\"name\": \"data-25072f28f10ccc5583a0116cece5cca2\"}, \"mark\": {\"type\": \"line\", \"color\": \"steelblue\"}, \"encoding\": {\"x\": {\"field\": \"Year\", \"title\": \"Year\", \"type\": \"quantitative\"}, \"y\": {\"field\": \"margarine_consumption\", \"title\": \"Margarine consumption (lbs per capita)\", \"type\": \"quantitative\"}}, \"height\": 250, \"$schema\": \"https://vega.github.io/schema/vega-lite/v5.15.1.json\", \"datasets\": {\"data-25072f28f10ccc5583a0116cece5cca2\": [{\"margarine_consumption\": 8.2, \"maine_divorce_rate\": 5.0, \"Year\": 2000}, {\"margarine_consumption\": 7.0, \"maine_divorce_rate\": 4.7, \"Year\": 2001}, {\"margarine_consumption\": 6.5, \"maine_divorce_rate\": 4.6, \"Year\": 2002}, {\"margarine_consumption\": 5.3, \"maine_divorce_rate\": 4.4, \"Year\": 2003}, {\"margarine_consumption\": 5.2, \"maine_divorce_rate\": 4.3, \"Year\": 2004}, {\"margarine_consumption\": 4.0, \"maine_divorce_rate\": 4.1, \"Year\": 2005}, {\"margarine_consumption\": 4.6, \"maine_divorce_rate\": 4.2, \"Year\": 2006}, {\"margarine_consumption\": 4.5, \"maine_divorce_rate\": 4.2, \"Year\": 2007}, {\"margarine_consumption\": 4.2, \"maine_divorce_rate\": 4.2, \"Year\": 2008}, {\"margarine_consumption\": 3.7, \"maine_divorce_rate\": 4.1, \"Year\": 2009}]}}, {\"mode\": \"vega-lite\"});\n",
       "</script>"
      ],
      "text/plain": [
       "alt.Chart(...)"
      ]
     },
     "execution_count": 1,
     "metadata": {},
     "output_type": "execute_result"
    }
   ],
   "source": [
    "import altair as alt\n",
    "import pandas as pd\n",
    "\n",
    "\n",
    "should_have_bought_butter = pd.DataFrame({\n",
    "    \"margarine_consumption\": [8.2, 7, 6.5, 5.3, 5.2, 4, 4.6, 4.5, 4.2, 3.7],\n",
    "    \"maine_divorce_rate\": [5, 4.7, 4.6, 4.4, 4.3, 4.1, 4.2, 4.2, 4.2, 4.1],\n",
    "    \"Year\": [2000, 2001, 2002, 2003, 2004, 2005, 2006, 2007, 2008, 2009]\n",
    "})\n",
    "\n",
    "marg_vs_time = alt.Chart(should_have_bought_butter).mark_line(color=\"steelblue\").encode(\n",
    "    x=alt.X('Year', title='Year'),\n",
    "    y=alt.Y(\"margarine_consumption\",\n",
    "        title = \"Margarine consumption (lbs per capita)\")\n",
    ").properties(\n",
    "    height=250\n",
    ")\n",
    "\n",
    "\n",
    "divorce_rate_vs_time = marg_vs_time.mark_line(color=\"coral\").encode(\n",
    "    y=alt.Y(\"maine_divorce_rate\")\n",
    "        .title(\"Divorce rate in Maine (per 1000\")\n",
    "        .scale(zero=False)\n",
    ")\n",
    "\n",
    "(marg_vs_time | divorce_rate_vs_time).properties(\n",
    "    title=\"Divorce rate in Maine correlates with margarine consumption\"\n",
    ")\n",
    "marg_vs_time"
   ]
  },
  {
   "cell_type": "code",
   "execution_count": null,
   "id": "4e22dab3-aeea-46c4-922b-d432d7e30a9d",
   "metadata": {},
   "outputs": [],
   "source": []
  }
 ],
 "metadata": {
  "kernelspec": {
   "display_name": "Python 3 (ipykernel)",
   "language": "python",
   "name": "python3"
  },
  "language_info": {
   "codemirror_mode": {
    "name": "ipython",
    "version": 3
   },
   "file_extension": ".py",
   "mimetype": "text/x-python",
   "name": "python",
   "nbconvert_exporter": "python",
   "pygments_lexer": "ipython3",
   "version": "3.10.8"
  }
 },
 "nbformat": 4,
 "nbformat_minor": 5
}
